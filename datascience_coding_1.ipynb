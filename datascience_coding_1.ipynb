{
  "nbformat": 4,
  "nbformat_minor": 0,
  "metadata": {
    "colab": {
      "provenance": [],
      "mount_file_id": "1U8ZCZnxQvE_0gOsALqG3m8-GXgukELYZ",
      "authorship_tag": "ABX9TyMBuLZ2bFUbwrjhFPzGbgzM",
      "include_colab_link": true
    },
    "kernelspec": {
      "name": "python3",
      "display_name": "Python 3"
    },
    "language_info": {
      "name": "python"
    }
  },
  "cells": [
    {
      "cell_type": "markdown",
      "metadata": {
        "id": "view-in-github",
        "colab_type": "text"
      },
      "source": [
        "<a href=\"https://colab.research.google.com/github/Praveenverma296/datascience/blob/main/datascience_coding_1.ipynb\" target=\"_parent\"><img src=\"https://colab.research.google.com/assets/colab-badge.svg\" alt=\"Open In Colab\"/></a>"
      ]
    },
    {
      "cell_type": "code",
      "execution_count": null,
      "metadata": {
        "colab": {
          "base_uri": "https://localhost:8080/"
        },
        "id": "sNi3sT6QqwWM",
        "outputId": "c56b5cc4-e973-4dfb-a7c1-7118d4fadd8c"
      },
      "outputs": [
        {
          "output_type": "stream",
          "name": "stdout",
          "text": [
            "                                 Car Names    Mileages  Ratings  \\\n",
            "0                  2019 Honda Accord Sport     Mileage      3.7   \n",
            "1     2015 Chevrolet Corvette Stingray Z51  29,192 mi.      3.7   \n",
            "2        2020 Jeep Grand Cherokee Overland  53,561 mi.      4.8   \n",
            "3               2019 Audi A7 3.0T Prestige  46,664 mi.      4.9   \n",
            "4             2017 Ford Mustang GT Premium  21,726 mi.      4.0   \n",
            "...                                    ...         ...      ...   \n",
            "9325                2019 Lexus IS 300 Base  61,106 mi.      4.7   \n",
            "9326                    2019 Kia Sorento L  11,132 mi.      4.8   \n",
            "9327                2017 GMC Acadia Denali  55,074 mi.      3.4   \n",
            "9328                2019 Honda Pilot Elite  57,150 mi.      4.9   \n",
            "9329                  2019 GMC Terrain SLT  56,293 mi.      4.8   \n",
            "\n",
            "              Reviews   used/certified         price drop    Price  \n",
            "0         (3 reviews)             Used    $501 price drop  $27,995  \n",
            "1         (3 reviews)             Used    $277 price drop  $52,000  \n",
            "2     (1,147 reviews)             Used  $2,000 price drop  $41,998  \n",
            "3     (1,831 reviews)             Used  $2,090 price drop  $62,750  \n",
            "4       (409 reviews)             Used    $200 price drop  $29,995  \n",
            "...               ...              ...                ...      ...  \n",
            "9325  (4,658 reviews)             Used  $2,770 price drop  $36,500  \n",
            "9326    (505 reviews)             Used    $200 price drop  $23,450  \n",
            "9327    (127 reviews)             Used  $2,065 price drop  $29,381  \n",
            "9328  (8,222 reviews)  Honda Certified  $2,007 price drop  $38,488  \n",
            "9329  (1,293 reviews)             Used    $561 price drop  $27,812  \n",
            "\n",
            "[9330 rows x 7 columns]\n"
          ]
        }
      ],
      "source": [
        "import pandas as pd\n",
        "\n",
        "# Use double backslashes\n",
        "file_path = \"/new-used-cars-dataset.csv\"\n",
        "#/new-used-cars-dataset.csv\n",
        "# Or use a raw string\n",
        "# file_path = r\"C:\\Users\\pv084\\Downloads\\new-used-cars-dataset(1).csv\"\n",
        "\n",
        "# Read the CSV file into a pandas DataFrame\n",
        "cars = pd.read_csv(file_path)\n",
        "\n",
        "# Print the DataFrame\n",
        "print(cars)\n"
      ]
    },
    {
      "cell_type": "code",
      "source": [
        "#subset of dataset\n",
        "cars = pd.read_csv(file_path)\n",
        "cars_tiny = cars.iloc[0:6, [0, 2, 3]]\n",
        "print(cars_tiny)"
      ],
      "metadata": {
        "colab": {
          "base_uri": "https://localhost:8080/"
        },
        "id": "sE0DJHsOz1CE",
        "outputId": "20fa7002-28ca-43f7-9c65-0fe9178dbb29"
      },
      "execution_count": null,
      "outputs": [
        {
          "output_type": "stream",
          "name": "stdout",
          "text": [
            "                              Car Names  Ratings          Reviews\n",
            "0               2019 Honda Accord Sport      3.7      (3 reviews)\n",
            "1  2015 Chevrolet Corvette Stingray Z51      3.7      (3 reviews)\n",
            "2     2020 Jeep Grand Cherokee Overland      4.8  (1,147 reviews)\n",
            "3            2019 Audi A7 3.0T Prestige      4.9  (1,831 reviews)\n",
            "4          2017 Ford Mustang GT Premium      4.0    (409 reviews)\n",
            "5      2016 Jeep Grand Cherokee Limited      4.6  (1,348 reviews)\n"
          ]
        }
      ]
    },
    {
      "cell_type": "code",
      "source": [
        "# Replace the missing value with some constant\n",
        "cars_tiny = [[1, 2, 3, 4], [5, 0, 7, 8], [9, 10, 11, 12], [13, 14, \"Missing\", 0]]\n",
        "cars_tiny[1][1] = 0\n",
        "cars_tiny[3][3] = \"Missing\"\n",
        "cars_tiny"
      ],
      "metadata": {
        "colab": {
          "base_uri": "https://localhost:8080/"
        },
        "id": "JJIRbEnZ64su",
        "outputId": "0ca19054-6885-4c7e-8a51-6876c977ffad"
      },
      "execution_count": null,
      "outputs": [
        {
          "output_type": "execute_result",
          "data": {
            "text/plain": [
              "[[1, 2, 3, 4], [5, 0, 7, 8], [9, 10, 11, 12], [13, 14, 'Missing', 'Missing']]"
            ]
          },
          "metadata": {},
          "execution_count": 12
        }
      ]
    },
    {
      "cell_type": "code",
      "source": [
        "# Replace the missing value with the field mean or mode\n",
        "\n",
        "import numpy as np\n",
        "import pandas as pd\n",
        "\n",
        "# Assume 'cars_tiny' is a pandas DataFrame\n",
        "# Create a DataFrame with missing values\n",
        "cars_tiny = pd.DataFrame({\n",
        "    'Ratings': [200, None, 250, None],\n",
        "    'Car Names': ['Toyota', 'Ford', 'Chevrolet', None]\n",
        "})\n",
        "\n",
        "# Display the original DataFrame\n",
        "print(\"Original DataFrame:\")\n",
        "print(cars_tiny)\n",
        "\n",
        "# Replace missing values in 'cubicinches' with the mean\n",
        "mean_cubicinches = np.mean([x for x in cars_tiny['Ratings'] if not pd.isnull(x)])\n",
        "cars_tiny.at[2, 'Ratings'] = mean_cubicinches\n",
        "\n",
        "# Replace missing values in 'brand' with the mode\n",
        "our_table = cars_tiny['Car Names'].value_counts()\n",
        "our_mode = our_table.idxmax()\n",
        "cars_tiny.at[3, 'Car Names'] = our_mode  # Note: Index 4 corresponds to position 3 in Python (0-indexed)\n",
        "\n",
        "# Display the DataFrame after replacement\n",
        "print(\"\\nDataFrame after replacing missing values:\")\n",
        "print(cars_tiny)\n"
      ],
      "metadata": {
        "colab": {
          "base_uri": "https://localhost:8080/"
        },
        "id": "oohQM6LP99jB",
        "outputId": "25df5c82-3d0d-4335-8dcd-ca00d67eb3d1"
      },
      "execution_count": null,
      "outputs": [
        {
          "output_type": "stream",
          "name": "stdout",
          "text": [
            "Original DataFrame:\n",
            "   Ratings  Car Names\n",
            "0    200.0     Toyota\n",
            "1      NaN       Ford\n",
            "2    250.0  Chevrolet\n",
            "3      NaN       None\n",
            "\n",
            "DataFrame after replacing missing values:\n",
            "   Ratings  Car Names\n",
            "0    200.0     Toyota\n",
            "1      NaN       Ford\n",
            "2    225.0  Chevrolet\n",
            "3      NaN     Toyota\n"
          ]
        }
      ]
    },
    {
      "cell_type": "code",
      "source": [
        "# Five Number Summary with Mean\n",
        "import pandas as pd\n",
        "\n",
        "#cars = pd.read_csv('cars.csv')\n",
        "weight_summary = cars['Ratings'].describe()\n",
        "weight_summary\n"
      ],
      "metadata": {
        "colab": {
          "base_uri": "https://localhost:8080/"
        },
        "id": "toDNKRdWBZC9",
        "outputId": "fc08bd82-6a0c-4fe7-b5af-879bb89b2de2"
      },
      "execution_count": null,
      "outputs": [
        {
          "output_type": "execute_result",
          "data": {
            "text/plain": [
              "count    9330.000000\n",
              "mean        4.488682\n",
              "std         0.485635\n",
              "min         1.400000\n",
              "25%         4.400000\n",
              "50%         4.600000\n",
              "75%         4.800000\n",
              "max         5.000000\n",
              "Name: Ratings, dtype: float64"
            ]
          },
          "metadata": {},
          "execution_count": 24
        }
      ]
    },
    {
      "cell_type": "code",
      "source": [
        "#min max normalization\n",
        "mmnorm_weight = (cars['Ratings'] - min(cars['Ratings'])) / (max(cars['Ratings']) - min(cars['Ratings']))\n",
        "mmnorm_weight"
      ],
      "metadata": {
        "colab": {
          "base_uri": "https://localhost:8080/"
        },
        "id": "uhchOcORC6OL",
        "outputId": "298ef949-893c-457a-c954-f9217a767100"
      },
      "execution_count": null,
      "outputs": [
        {
          "output_type": "execute_result",
          "data": {
            "text/plain": [
              "0       0.638889\n",
              "1       0.638889\n",
              "2       0.944444\n",
              "3       0.972222\n",
              "4       0.722222\n",
              "          ...   \n",
              "9325    0.916667\n",
              "9326    0.944444\n",
              "9327    0.555556\n",
              "9328    0.972222\n",
              "9329    0.944444\n",
              "Name: Ratings, Length: 9330, dtype: float64"
            ]
          },
          "metadata": {},
          "execution_count": 26
        }
      ]
    },
    {
      "cell_type": "code",
      "source": [
        "# Create a histogram\n",
        "import matplotlib.pyplot as plt\n",
        "\n",
        "cars2 = pd.read_csv(file_path)\n",
        "\n",
        "plt.hist(cars2['Mileages'], bins=30, range=(0, 5000), color='blue', edgecolor='black')\n",
        "plt.ylim(0, 40)\n",
        "plt.xlabel(\"Mileages\")\n",
        "plt.ylabel(\"Count\")\n",
        "plt.title(\"Histogram of Car Mileages\")\n",
        "\n",
        "#plt.box(on='plot', color='black')\n"
      ],
      "metadata": {
        "colab": {
          "base_uri": "https://localhost:8080/",
          "height": 489
        },
        "id": "0X-VNlnCDa8W",
        "outputId": "1ca2d64e-e47b-4606-bbb5-532360872ef8"
      },
      "execution_count": null,
      "outputs": [
        {
          "output_type": "execute_result",
          "data": {
            "text/plain": [
              "Text(0.5, 1.0, 'Histogram of Car Mileages')"
            ]
          },
          "metadata": {},
          "execution_count": 35
        },
        {
          "output_type": "display_data",
          "data": {
            "text/plain": [
              "<Figure size 640x480 with 1 Axes>"
            ],
            "image/png": "[encoded data removed]"
          },
          "metadata": {}
        }
      ]
    },
    {
      "cell_type": "code",
      "source": [
        "# Create a scatterplot\n",
        "plt.scatter(cars2['Price'], cars2['Ratings'], marker='o')\n",
        "plt.scatter(cars2['Price'], cars2['Ratings'], marker='o')\n",
        "\n",
        "plt.xlim(0, 5000)\n",
        "plt.ylim(0, 600)\n",
        "plt.xlabel('Price')\n",
        "plt.ylabel('Ratings')\n",
        "plt.title('Scatterplot of MPG by Price')\n",
        "\n",
        "plt.show()"
      ],
      "metadata": {
        "colab": {
          "base_uri": "https://localhost:8080/",
          "height": 472
        },
        "id": "lYYlfo2bDaux",
        "outputId": "a0ed2b18-34ed-4c1d-c0e8-a7c5b14eea29"
      },
      "execution_count": null,
      "outputs": [
        {
          "output_type": "display_data",
          "data": {
            "text/plain": [
              "<Figure size 640x480 with 1 Axes>"
            ],
            "image/png": "[encoded data removed]"
          },
          "metadata": {}
        }
      ]
    },
    {
      "cell_type": "code",
      "source": [
        "zscore_Ratings= (cars['Ratings'] - np.mean(cars['Ratings'])) / np.std(cars['Ratings'])\n",
        "zscore_Ratings"
      ],
      "metadata": {
        "colab": {
          "base_uri": "https://localhost:8080/"
        },
        "id": "bi2RhKyaIZkE",
        "outputId": "8b3d0faf-a82c-46c0-e35c-0342ab0c23a0"
      },
      "execution_count": null,
      "outputs": [
        {
          "output_type": "execute_result",
          "data": {
            "text/plain": [
              "0      -1.624108\n",
              "1      -1.624108\n",
              "2       0.641088\n",
              "3       0.847015\n",
              "4      -1.006327\n",
              "          ...   \n",
              "9325    0.435161\n",
              "9326    0.641088\n",
              "9327   -2.241889\n",
              "9328    0.847015\n",
              "9329    0.641088\n",
              "Name: Ratings, Length: 9330, dtype: float64"
            ]
          },
          "metadata": {},
          "execution_count": 41
        }
      ]
    },
    {
      "cell_type": "code",
      "source": [
        "# Side-by-Side Histograms of Weight and Z-score of Weight\n",
        "plt.subplot(1, 2, 1)\n",
        "plt.hist(cars['Ratings'], bins=30, range=(1000, 5000))\n",
        "plt.xlim(1000, 5000)\n",
        "plt.title(\"Histogram of Ratings\")\n",
        "plt.xlabel(\"Ratings\")\n",
        "plt.ylabel(\"Counts\")\n",
        "\n",
        "plt.subplot(1, 2, 2)\n",
        "plt.hist(zscore_Ratings, bins=30, range=(-2, 3))\n",
        "plt.xlim(-2, 3)\n",
        "plt.title(\"Histogram of Z-score of ratingst\")\n",
        "plt.xlabel(\"Z-score of ratings\")\n",
        "plt.ylabel(\"Counts\")\n",
        "\n",
        "plt.show()"
      ],
      "metadata": {
        "colab": {
          "base_uri": "https://localhost:8080/",
          "height": 472
        },
        "id": "EUeqp4svHtG0",
        "outputId": "7c193f57-a243-4cd7-ac14-431350f8590e"
      },
      "execution_count": null,
      "outputs": [
        {
          "output_type": "display_data",
          "data": {
            "text/plain": [
              "<Figure size 640x480 with 2 Axes>"
            ],
            "image/png": "[encoded data removed]"
          },
          "metadata": {}
        }
      ]
    },
    {
      "cell_type": "code",
      "source": [
        "plt.figure(figsize=(5, 5))\n",
        "plt.subplot(1, 1, 1)\n",
        "plt.plot(np.sort(invsqrt_Price), np.linspace(0.01, 0.03, len(invsqrt_Price)), 'ro')\n",
        "plt.xlabel(\"Theoretical Quantiles\")\n",
        "plt.ylabel(\"Sample Quantiles\")\n",
        "plt.title(\"Normal Q-Q Plot of Inverse Square Root of Weight\")\n",
        "plt.grid(True)\n",
        "plt.plot([np.min(invsqrt_Price), np.max(invsqrt_Price)], [np.min(invsqrt_Price), np.max(invsqrt_Price)], 'b-')\n",
        "plt.show()"
      ],
      "metadata": {
        "colab": {
          "base_uri": "https://localhost:8080/",
          "height": 696
        },
        "id": "WA4stJwsHuUt",
        "outputId": "fa6d8a11-8d24-4a89-d56d-119efa1cf1cb"
      },
      "execution_count": null,
      "outputs": [
        {
          "output_type": "error",
          "ename": "NameError",
          "evalue": "ignored",
          "traceback": [
            "\u001b[0;31m---------------------------------------------------------------------------\u001b[0m",
            "\u001b[0;31mNameError\u001b[0m                                 Traceback (most recent call last)",
            "\u001b[0;32m<ipython-input-46-09ad9e98ad29>\u001b[0m in \u001b[0;36m<cell line: 3>\u001b[0;34m()\u001b[0m\n\u001b[1;32m      1\u001b[0m \u001b[0mplt\u001b[0m\u001b[0;34m.\u001b[0m\u001b[0mfigure\u001b[0m\u001b[0;34m(\u001b[0m\u001b[0mfigsize\u001b[0m\u001b[0;34m=\u001b[0m\u001b[0;34m(\u001b[0m\u001b[0;36m5\u001b[0m\u001b[0;34m,\u001b[0m \u001b[0;36m5\u001b[0m\u001b[0;34m)\u001b[0m\u001b[0;34m)\u001b[0m\u001b[0;34m\u001b[0m\u001b[0;34m\u001b[0m\u001b[0m\n\u001b[1;32m      2\u001b[0m \u001b[0mplt\u001b[0m\u001b[0;34m.\u001b[0m\u001b[0msubplot\u001b[0m\u001b[0;34m(\u001b[0m\u001b[0;36m1\u001b[0m\u001b[0;34m,\u001b[0m \u001b[0;36m1\u001b[0m\u001b[0;34m,\u001b[0m \u001b[0;36m1\u001b[0m\u001b[0;34m)\u001b[0m\u001b[0;34m\u001b[0m\u001b[0;34m\u001b[0m\u001b[0m\n\u001b[0;32m----> 3\u001b[0;31m \u001b[0mplt\u001b[0m\u001b[0;34m.\u001b[0m\u001b[0mplot\u001b[0m\u001b[0;34m(\u001b[0m\u001b[0mnp\u001b[0m\u001b[0;34m.\u001b[0m\u001b[0msort\u001b[0m\u001b[0;34m(\u001b[0m\u001b[0minvsqrt_Price\u001b[0m\u001b[0;34m)\u001b[0m\u001b[0;34m,\u001b[0m \u001b[0mnp\u001b[0m\u001b[0;34m.\u001b[0m\u001b[0mlinspace\u001b[0m\u001b[0;34m(\u001b[0m\u001b[0;36m0.01\u001b[0m\u001b[0;34m,\u001b[0m \u001b[0;36m0.03\u001b[0m\u001b[0;34m,\u001b[0m \u001b[0mlen\u001b[0m\u001b[0;34m(\u001b[0m\u001b[0minvsqrt_Price\u001b[0m\u001b[0;34m)\u001b[0m\u001b[0;34m)\u001b[0m\u001b[0;34m,\u001b[0m \u001b[0;34m'ro'\u001b[0m\u001b[0;34m)\u001b[0m\u001b[0;34m\u001b[0m\u001b[0;34m\u001b[0m\u001b[0m\n\u001b[0m\u001b[1;32m      4\u001b[0m \u001b[0mplt\u001b[0m\u001b[0;34m.\u001b[0m\u001b[0mxlabel\u001b[0m\u001b[0;34m(\u001b[0m\u001b[0;34m\"Theoretical Quantiles\"\u001b[0m\u001b[0;34m)\u001b[0m\u001b[0;34m\u001b[0m\u001b[0;34m\u001b[0m\u001b[0m\n\u001b[1;32m      5\u001b[0m \u001b[0mplt\u001b[0m\u001b[0;34m.\u001b[0m\u001b[0mylabel\u001b[0m\u001b[0;34m(\u001b[0m\u001b[0;34m\"Sample Quantiles\"\u001b[0m\u001b[0;34m)\u001b[0m\u001b[0;34m\u001b[0m\u001b[0;34m\u001b[0m\u001b[0m\n",
            "\u001b[0;31mNameError\u001b[0m: name 'invsqrt_Price' is not defined"
          ]
        },
        {
          "output_type": "display_data",
          "data": {
            "text/plain": [
              "<Figure size 500x500 with 1 Axes>"
            ],
            "image/png": "[encoded data removed]"
          },
          "metadata": {}
        }
      ]
    },
    {
      "cell_type": "code",
      "source": [
        "import pandas as pd\n",
        "\n",
        "# Sample data\n",
        "data = {\n",
        "    'x': [1, 1, 3, 2, 1, 4, 3, 1, 2, 3],\n",
        "    'y': [9, 8, 7, 6, 5, 4, 3, 2, 1, 0],\n",
        "    'z': [2, 1, 2, 3, 4, 5, 6, 7, 8, 9]\n",
        "}\n",
        "\n",
        "# Create a DataFrame\n",
        "df = pd.DataFrame(data)\n",
        "\n",
        "# Display the original DataFrame\n",
        "print(\"Original DataFrame:\")\n",
        "print(df)\n",
        "\n",
        "# Use the default index provided by pandas\n",
        "# This is usually a numeric range starting from 0\n",
        "# If you don't set an index explicitly, it will be created automatically\n",
        "df_with_default_index = df.copy()\n",
        "\n",
        "# Display the DataFrame with the default index\n",
        "print(\"\\nDataFrame with Default Index:\")\n",
        "print(df_with_default_index)"
      ],
      "metadata": {
        "colab": {
          "base_uri": "https://localhost:8080/"
        },
        "id": "ZC6y7D0iHu-R",
        "outputId": "491b017f-be8d-443f-c20f-78a93571c7cf"
      },
      "execution_count": null,
      "outputs": [
        {
          "output_type": "stream",
          "name": "stdout",
          "text": [
            "Original DataFrame:\n",
            "   x  y  z\n",
            "0  1  9  2\n",
            "1  1  8  1\n",
            "2  3  7  2\n",
            "3  2  6  3\n",
            "4  1  5  4\n",
            "5  4  4  5\n",
            "6  3  3  6\n",
            "7  1  2  7\n",
            "8  2  1  8\n",
            "9  3  0  9\n",
            "\n",
            "DataFrame with Default Index:\n",
            "   x  y  z\n",
            "0  1  9  2\n",
            "1  1  8  1\n",
            "2  3  7  2\n",
            "3  2  6  3\n",
            "4  1  5  4\n",
            "5  4  4  5\n",
            "6  3  3  6\n",
            "7  1  2  7\n",
            "8  2  1  8\n",
            "9  3  0  9\n"
          ]
        }
      ]
    },
    {
      "cell_type": "code",
      "source": [
        "## REQUIRED LIBRARIES\n",
        "# For data wrangling\n",
        "import numpy as np\n",
        "import pandas as pd\n",
        "\n",
        "# For visualization\n",
        "import matplotlib.pyplot as plt\n",
        "%matplotlib inline\n",
        "import seaborn as sns\n",
        "pd.options.display.max_rows = None\n",
        "pd.options.display.max_columns = None"
      ],
      "metadata": {
        "id": "-ND7_mEaSzRe"
      },
      "execution_count": null,
      "outputs": []
    }
  ]
}